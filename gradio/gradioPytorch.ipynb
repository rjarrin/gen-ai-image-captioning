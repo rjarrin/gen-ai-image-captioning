{
 "cells": [
  {
   "cell_type": "code",
   "execution_count": 1,
   "id": "253965ca-ca6c-49da-ba64-41dbcfa70192",
   "metadata": {},
   "outputs": [],
   "source": [
    "# import required libraries\n",
    "import torch\n",
    "import requests\n",
    "from PIL import Image\n",
    "from torchvision import transforms\n",
    "import gradio as gr\n",
    "# Disable tensorflow warnings (program uses Pytorch)\n",
    "import os\n",
    "os.environ['TF_CPP_MIN_LOG_LEVEL'] = '2' \n",
    "import tensorflow as tf\n",
    "# Disable hugging face warnings\n",
    "import warnings\n",
    "warnings.filterwarnings(\"ignore\")"
   ]
  },
  {
   "cell_type": "code",
   "execution_count": 2,
   "id": "13fb18d5-8acc-4bc0-969a-5ccd25c7eb6d",
   "metadata": {},
   "outputs": [
    {
     "name": "stderr",
     "output_type": "stream",
     "text": [
      "Using cache found in /home/julian/.cache/torch/hub/pytorch_vision_v0.6.0\n"
     ]
    }
   ],
   "source": [
    "# Initialize the model\n",
    "model = torch.hub.load('pytorch/vision:v0.6.0', 'resnet18', pretrained=True).eval()"
   ]
  },
  {
   "cell_type": "code",
   "execution_count": 3,
   "id": "95be7d9b-7632-4315-b9c7-23a46239ff72",
   "metadata": {},
   "outputs": [],
   "source": [
    "# Download human-readable labels for ImageNet\n",
    "response = requests.get(\"https://git.io/JJkYN\")\n",
    "labels = response.text.split(\"\\n\")"
   ]
  },
  {
   "cell_type": "code",
   "execution_count": 4,
   "id": "ed2758ec-8110-4f86-abad-6ffa94f55f79",
   "metadata": {},
   "outputs": [],
   "source": [
    "# Convert an input image into a PyTorch sensor\n",
    "def predict(inp):\n",
    "    inp = transforms.ToTensor()(inp).unsqueeze(0)\n",
    "    with torch.no_grad():\n",
    "        prediction = torch.nn.functional.softmax(model(inp)[0], dim=0)\n",
    "        confidences = {labels[i]: float(prediction[i]) for i in range(1000)}\n",
    "    return confidences"
   ]
  },
  {
   "cell_type": "code",
   "execution_count": 5,
   "id": "d8a33ae0-bb84-4e6e-b00e-0a74a04f4291",
   "metadata": {},
   "outputs": [],
   "source": [
    "# Develop gradio interface\n",
    "pygradio = gr.Interface(\n",
    "    fn=predict,\n",
    "    inputs=gr.Image(type=\"pil\"),\n",
    "    outputs=gr.Label(num_top_classes=3),\n",
    "    examples=[\"../valentin-jorel-Mpyn-ne644Y-unsplash.jpg\", \"../vyshnavi-bisani-z8kriatLFdA-unsplash.jpg\"]\n",
    ")"
   ]
  },
  {
   "cell_type": "code",
   "execution_count": 6,
   "id": "a5168bfd-ba0d-4017-a29a-4933ee78c810",
   "metadata": {},
   "outputs": [
    {
     "name": "stdout",
     "output_type": "stream",
     "text": [
      "Running on local URL:  http://127.0.0.1:7860\n",
      "\n",
      "To create a public link, set `share=True` in `launch()`.\n"
     ]
    },
    {
     "data": {
      "text/html": [
       "<div><iframe src=\"http://127.0.0.1:7860/\" width=\"100%\" height=\"500\" allow=\"autoplay; camera; microphone; clipboard-read; clipboard-write;\" frameborder=\"0\" allowfullscreen></iframe></div>"
      ],
      "text/plain": [
       "<IPython.core.display.HTML object>"
      ]
     },
     "metadata": {},
     "output_type": "display_data"
    },
    {
     "data": {
      "text/plain": []
     },
     "execution_count": 6,
     "metadata": {},
     "output_type": "execute_result"
    }
   ],
   "source": [
    "pygradio.launch()"
   ]
  },
  {
   "cell_type": "code",
   "execution_count": 7,
   "id": "141fd30a-1288-4b4d-b5b8-66d8fc7e05e7",
   "metadata": {},
   "outputs": [
    {
     "name": "stdout",
     "output_type": "stream",
     "text": [
      "Closing server running on port: 7860\n"
     ]
    }
   ],
   "source": [
    "pygradio.close()"
   ]
  },
  {
   "cell_type": "code",
   "execution_count": null,
   "id": "96c45256-41d2-4b2b-bcf3-302475e394d6",
   "metadata": {},
   "outputs": [],
   "source": []
  }
 ],
 "metadata": {
  "kernelspec": {
   "display_name": "Python 3 (ipykernel)",
   "language": "python",
   "name": "python3"
  },
  "language_info": {
   "codemirror_mode": {
    "name": "ipython",
    "version": 3
   },
   "file_extension": ".py",
   "mimetype": "text/x-python",
   "name": "python",
   "nbconvert_exporter": "python",
   "pygments_lexer": "ipython3",
   "version": "3.10.12"
  }
 },
 "nbformat": 4,
 "nbformat_minor": 5
}
