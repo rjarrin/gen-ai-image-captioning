{
 "cells": [
  {
   "cell_type": "code",
   "execution_count": 2,
   "id": "3359afe8-ae7b-4066-b2e3-e523589effc8",
   "metadata": {},
   "outputs": [],
   "source": [
    "# Disable tensorflow warnings (program uses Pytorch)\n",
    "import os\n",
    "os.environ['TF_CPP_MIN_LOG_LEVEL'] = '2' \n",
    "import tensorflow as tf\n",
    "# Disable hugging face warnings\n",
    "import warnings\n",
    "warnings.filterwarnings(\"ignore\")\n",
    "# Import the required libraries\n",
    "import gradio as gr\n",
    "import numpy as np\n",
    "from PIL import Image\n",
    "from transformers import AutoProcessor, BlipForConditionalGeneration"
   ]
  },
  {
   "cell_type": "code",
   "execution_count": 3,
   "id": "3931cebe-efd7-45f9-a960-4c8b53763f8e",
   "metadata": {},
   "outputs": [],
   "source": [
    "# Initialize the processor and model\n",
    "processor = AutoProcessor.from_pretrained(\"Salesforce/blip-image-captioning-base\")\n",
    "model = BlipForConditionalGeneration.from_pretrained(\"Salesforce/blip-image-captioning-base\")"
   ]
  },
  {
   "cell_type": "code",
   "execution_count": 4,
   "id": "78209794-c589-4f71-9ce3-6c23388dc8cb",
   "metadata": {},
   "outputs": [],
   "source": [
    "def caption_image(input_image: np.ndarray):\n",
    "    # Convert numpy array to PIL Image and convert to RGB\n",
    "    raw_image = Image.fromarray(input_image).convert(\"RGB\")\n",
    "    # Process the image\n",
    "    inputs = processor(raw_image, return_tensors=\"pt\")\n",
    "    # Generate a caption for the image\n",
    "    out = model.generate(**inputs, max_length=50)\n",
    "    # Decode the generated tokens to text\n",
    "    caption = processor.decode(out[0], skip_special_tokens=True)\n",
    "    return caption"
   ]
  },
  {
   "cell_type": "code",
   "execution_count": 5,
   "id": "1baf3edb-25b1-4b86-a58e-831e4acd0741",
   "metadata": {},
   "outputs": [],
   "source": [
    "iface = gr.Interface(\n",
    "    fn=caption_image,\n",
    "    inputs=gr.Image(),\n",
    "    outputs=\"text\",\n",
    "    title=\"Image Captioning\",\n",
    "    description=\"This is a simple web app for generating captions for images using a trained model.\"\n",
    ")"
   ]
  },
  {
   "cell_type": "code",
   "execution_count": 6,
   "id": "a64a19e3-9135-4632-8a54-12faeddd0ea8",
   "metadata": {},
   "outputs": [
    {
     "name": "stdout",
     "output_type": "stream",
     "text": [
      "Running on local URL:  http://127.0.0.1:7860\n",
      "\n",
      "To create a public link, set `share=True` in `launch()`.\n"
     ]
    },
    {
     "data": {
      "text/html": [
       "<div><iframe src=\"http://127.0.0.1:7860/\" width=\"100%\" height=\"500\" allow=\"autoplay; camera; microphone; clipboard-read; clipboard-write;\" frameborder=\"0\" allowfullscreen></iframe></div>"
      ],
      "text/plain": [
       "<IPython.core.display.HTML object>"
      ]
     },
     "metadata": {},
     "output_type": "display_data"
    },
    {
     "data": {
      "text/plain": []
     },
     "execution_count": 6,
     "metadata": {},
     "output_type": "execute_result"
    }
   ],
   "source": [
    "iface.launch()"
   ]
  },
  {
   "cell_type": "code",
   "execution_count": 7,
   "id": "702edb6d-20e7-4ec8-8044-3c1e34b71b21",
   "metadata": {},
   "outputs": [
    {
     "name": "stdout",
     "output_type": "stream",
     "text": [
      "Closing server running on port: 7860\n"
     ]
    }
   ],
   "source": [
    "iface.close()"
   ]
  },
  {
   "cell_type": "code",
   "execution_count": null,
   "id": "33759f9c-9ab3-4fd5-a678-6eb323ad7620",
   "metadata": {},
   "outputs": [],
   "source": []
  }
 ],
 "metadata": {
  "kernelspec": {
   "display_name": "Python 3 (ipykernel)",
   "language": "python",
   "name": "python3"
  },
  "language_info": {
   "codemirror_mode": {
    "name": "ipython",
    "version": 3
   },
   "file_extension": ".py",
   "mimetype": "text/x-python",
   "name": "python",
   "nbconvert_exporter": "python",
   "pygments_lexer": "ipython3",
   "version": "3.10.12"
  }
 },
 "nbformat": 4,
 "nbformat_minor": 5
}
