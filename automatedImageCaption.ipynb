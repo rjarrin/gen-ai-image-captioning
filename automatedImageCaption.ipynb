{
 "cells": [
  {
   "cell_type": "code",
   "execution_count": 1,
   "id": "806f5596-d305-462a-b7f4-8d3d3e73c9f5",
   "metadata": {},
   "outputs": [],
   "source": [
    "# Disable tensorflow warnings (program uses Pytorch)\n",
    "import os\n",
    "os.environ['TF_CPP_MIN_LOG_LEVEL'] = '2' \n",
    "import tensorflow as tf\n",
    "# Disable hugging face warnings\n",
    "import warnings\n",
    "warnings.filterwarnings(\"ignore\")\n",
    "# Import the required libraries\n",
    "import requests\n",
    "from PIL import Image\n",
    "from io import BytesIO\n",
    "from transformers import AutoProcessor, BlipForConditionalGeneration\n",
    "from bs4 import BeautifulSoup"
   ]
  },
  {
   "cell_type": "code",
   "execution_count": 2,
   "id": "e9584fae-2ea1-4564-a59d-89424c2d89f7",
   "metadata": {},
   "outputs": [],
   "source": [
    "# Initialize the processor and model\n",
    "processor = AutoProcessor.from_pretrained(\"Salesforce/blip-image-captioning-base\")\n",
    "model = BlipForConditionalGeneration.from_pretrained(\"Salesforce/blip-image-captioning-base\")"
   ]
  },
  {
   "cell_type": "code",
   "execution_count": 3,
   "id": "e97c9069-266e-4fc3-b186-c72d5d20f92e",
   "metadata": {},
   "outputs": [],
   "source": [
    "# Provide a URL page to scrape\n",
    "url = \"https://en.wikipedia.org/wiki/Google\""
   ]
  },
  {
   "cell_type": "code",
   "execution_count": 4,
   "id": "b7f8e0bc-ba02-42a9-9556-c3ef35cc1fc5",
   "metadata": {},
   "outputs": [],
   "source": [
    "# Download the page\n",
    "response = requests.get(url)"
   ]
  },
  {
   "cell_type": "code",
   "execution_count": 5,
   "id": "89174ebf-03a9-4432-aef4-953f07a1febb",
   "metadata": {},
   "outputs": [],
   "source": [
    "# Parse the page with BeautifulSoup\n",
    "soup = BeautifulSoup(response.text, \"html.parser\")"
   ]
  },
  {
   "cell_type": "code",
   "execution_count": 6,
   "id": "e5867874-849b-48f0-aed2-70731d80a81b",
   "metadata": {},
   "outputs": [],
   "source": [
    "# Find all the img elements\n",
    "img_elements = soup.find_all(\"img\")"
   ]
  },
  {
   "cell_type": "code",
   "execution_count": 7,
   "id": "42859887-1c79-4f96-b8e1-c297a9e4491a",
   "metadata": {},
   "outputs": [],
   "source": [
    "# Open a file to write the captions\n",
    "with open(\"captions.txt\", \"w\") as caption_file:\n",
    "    # Iterate over each img element\n",
    "    for img_element in img_elements:\n",
    "        img_url = img_element.get(\"src\")\n",
    "        # Skip if the image is an SVG or too small (e.g., icon)\n",
    "        if \"svg\" in img_url or \"1x1\" in img_url:\n",
    "            continue\n",
    "        # Correct the URL if it's malformed\n",
    "        if img_url.startswith(\"//\"):\n",
    "            img_url = \"https:\" + img_url\n",
    "        elif not img_url.startswith(\"http://\") and not img_url.startswith(\"https://\"):\n",
    "            # Skip URLs that don't start with http:// or https://\n",
    "            continue\n",
    "        try:\n",
    "            # Download the image\n",
    "            response = requests.get(img_url)\n",
    "            # Convert the image data to a PIL image\n",
    "            raw_image = Image.open(BytesIO(response.content))\n",
    "            if raw_image.size[0] * raw_image.size[1] < 400:\n",
    "                # Skip very small images\n",
    "                continue\n",
    "            raw_image = raw_image.convert(\"RGB\")\n",
    "            # Process the image\n",
    "            inputs = processor(raw_image, return_tensors=\"pt\")\n",
    "            # Generate a caption for the image\n",
    "            out = model.generate(**inputs, max_new_tokens=50)\n",
    "            # Decode the generated tokens to text\n",
    "            caption = processor.decode(out[0], skip_special_tokens=True)\n",
    "            # Write the caption to the file, prepended by the image URL\n",
    "            caption_file.write(f\"{img_url}: {caption}\\n\")\n",
    "        except Exception as e:\n",
    "            print(f\"Error processing image {img_url}: {e}\")\n",
    "            continue"
   ]
  }
 ],
 "metadata": {
  "kernelspec": {
   "display_name": "Python 3 (ipykernel)",
   "language": "python",
   "name": "python3"
  },
  "language_info": {
   "codemirror_mode": {
    "name": "ipython",
    "version": 3
   },
   "file_extension": ".py",
   "mimetype": "text/x-python",
   "name": "python",
   "nbconvert_exporter": "python",
   "pygments_lexer": "ipython3",
   "version": "3.10.12"
  }
 },
 "nbformat": 4,
 "nbformat_minor": 5
}
